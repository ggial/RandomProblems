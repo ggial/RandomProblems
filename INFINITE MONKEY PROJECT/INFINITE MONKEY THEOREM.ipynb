{
 "cells": [
  {
   "cell_type": "markdown",
   "metadata": {},
   "source": [
    "# INFINITE MONKEY THEOREM\n",
    "\n",
    "The theorem states that a monkey hitting keys at random on a typewriter keyboard for an infinite amount of time will almost surely type a given text, such as the complete works of William Shakespeare. Well, suppose we replace a monkey with a Python function. How long would it take for a Python function to generate just one sentence? The sentence I will go for is: “i should be spending my time better”.\n",
    "\n",
    "Found this problem at \"https://www.geeksforgeeks.org/intermediate-coding-problems-in-python/\""
   ]
  },
  {
   "cell_type": "markdown",
   "metadata": {},
   "source": [
    "Note! I will asume that only lower case english letters can be typed by the monkey. "
   ]
  },
  {
   "cell_type": "markdown",
   "metadata": {},
   "source": [
    "Possible improvements: \n",
    "1) Monkey can also type numbers, symbols, trigger capital letter etc.\n",
    "\n"
   ]
  },
  {
   "cell_type": "markdown",
   "metadata": {},
   "source": [
    "## Import Libraries"
   ]
  },
  {
   "cell_type": "code",
   "execution_count": 49,
   "metadata": {},
   "outputs": [],
   "source": [
    "import random\n",
    "import time"
   ]
  },
  {
   "cell_type": "markdown",
   "metadata": {},
   "source": [
    "## Start defining functions"
   ]
  },
  {
   "cell_type": "markdown",
   "metadata": {},
   "source": [
    "Main Function"
   ]
  },
  {
   "cell_type": "code",
   "execution_count": 66,
   "metadata": {},
   "outputs": [],
   "source": [
    "def main():\n",
    "    # Define a char array with all possible symbols the monkey could type\n",
    "    PossibleSymbols = \"abcdefghijklmnopqrstuvwxyz \"\n",
    "    #State the sentence we seek for the monkey to type\n",
    "                                                            #DesiredSentence = \"ab\" test\n",
    "    DesiredSentence = \"love you\"\n",
    "    # DesiredSentence = \"i should be spending my time better\" takes too much time\n",
    "    #Initialize monkey text to blank\n",
    "    MonkeyText = \"\"\n",
    "    \n",
    "    while DesiredSentence not in MonkeyText:\n",
    "        MonkeyText+=MonkeyType(PossibleSymbols)\n",
    "    \n",
    "    print(MonkeyText)\n",
    "    return"
   ]
  },
  {
   "cell_type": "markdown",
   "metadata": {},
   "source": [
    "Function: monkey pressing 1 button"
   ]
  },
  {
   "cell_type": "code",
   "execution_count": 67,
   "metadata": {},
   "outputs": [],
   "source": [
    "def MonkeyType(PossibleSymbols):\n",
    "    \n",
    "    r = random.randint(0,len(PossibleSymbols)-1)\n",
    "    \n",
    "    return PossibleSymbols[r]"
   ]
  },
  {
   "cell_type": "markdown",
   "metadata": {},
   "source": [
    "Main Function Call"
   ]
  },
  {
   "cell_type": "code",
   "execution_count": null,
   "metadata": {},
   "outputs": [],
   "source": [
    "start = time.time()\n",
    "main()\n",
    "end = time.time()\n",
    "print(\"Time elapsed was: \" + str(end - start) +\" seconds\")"
   ]
  },
  {
   "cell_type": "code",
   "execution_count": null,
   "metadata": {},
   "outputs": [],
   "source": []
  }
 ],
 "metadata": {
  "kernelspec": {
   "display_name": "Python 3",
   "language": "python",
   "name": "python3"
  },
  "language_info": {
   "codemirror_mode": {
    "name": "ipython",
    "version": 3
   },
   "file_extension": ".py",
   "mimetype": "text/x-python",
   "name": "python",
   "nbconvert_exporter": "python",
   "pygments_lexer": "ipython3",
   "version": "3.8.5"
  }
 },
 "nbformat": 4,
 "nbformat_minor": 4
}
