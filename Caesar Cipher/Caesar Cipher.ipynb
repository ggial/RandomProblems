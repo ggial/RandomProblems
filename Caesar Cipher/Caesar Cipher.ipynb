{
 "cells": [
  {
   "cell_type": "code",
   "execution_count": 25,
   "metadata": {},
   "outputs": [],
   "source": [
    "def main():\n",
    "    \n",
    "    Phrase = input(\"What phrase do you want to be ciphered?\")\n",
    "    n = int(input(\"Places to be moved?\"))\n",
    "    \n",
    "    CipheredPhrase = CaesarCipher(Phrase,n)\n",
    "    \n",
    "    print(CipheredPhrase)\n",
    "    return"
   ]
  },
  {
   "cell_type": "code",
   "execution_count": 26,
   "metadata": {},
   "outputs": [],
   "source": [
    "def CaesarCipher(Phrase,n):\n",
    "    alphabet = \"abcdefghijklmnopqrstuvwxyz\"\n",
    "    ALPHABET = \"ABCDEFGHIJKLMNOPQRSTUVWXYZ\"\n",
    "    CipheredPhrase = \"\"\n",
    "    for i in range(len(Phrase)):\n",
    "        if Phrase[i] in alphabet:\n",
    "            ind = alphabet.index(Phrase[i])\n",
    "            if ind+n<25:\n",
    "                CipheredPhrase += alphabet[ind+n]\n",
    "            else:\n",
    "                CipheredPhrase += alphabet[ind+n-26]\n",
    "        elif Phrase[i] in ALPHABET:\n",
    "            ind = ALPHABET.index(Phrase[i])\n",
    "            if ind+n<25:\n",
    "                CipheredPhrase += ALPHABET[ind+n]\n",
    "            else:\n",
    "                CipheredPhrase += ALPHABET[ind+n-26]\n",
    "        elif Phrase[i] == \" \":\n",
    "            CipheredPhrase += \" \"\n",
    "        else:\n",
    "            print(\"This is a strange symbol, I cannot cipher it...\")\n",
    "            return \"I do not understand you Lord.\"\n",
    "    \n",
    "    return CipheredPhrase"
   ]
  },
  {
   "cell_type": "code",
   "execution_count": 27,
   "metadata": {},
   "outputs": [
    {
     "name": "stdout",
     "output_type": "stream",
     "text": [
      "What phrase do you want to be ciphered?Hello World\n",
      "Places to be moved?1\n",
      "Ifmmp Xpsme\n"
     ]
    }
   ],
   "source": [
    "main()"
   ]
  },
  {
   "cell_type": "code",
   "execution_count": null,
   "metadata": {},
   "outputs": [],
   "source": []
  }
 ],
 "metadata": {
  "kernelspec": {
   "display_name": "Python 3",
   "language": "python",
   "name": "python3"
  },
  "language_info": {
   "codemirror_mode": {
    "name": "ipython",
    "version": 3
   },
   "file_extension": ".py",
   "mimetype": "text/x-python",
   "name": "python",
   "nbconvert_exporter": "python",
   "pygments_lexer": "ipython3",
   "version": "3.8.5"
  }
 },
 "nbformat": 4,
 "nbformat_minor": 4
}
